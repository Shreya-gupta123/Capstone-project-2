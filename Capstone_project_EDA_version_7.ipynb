{
  "nbformat": 4,
  "nbformat_minor": 0,
  "metadata": {
    "colab": {
      "private_outputs": true,
      "provenance": [],
      "collapsed_sections": [
        "vncDsAP0Gaoa",
        "FJNUwmbgGyua",
        "w6K7xa23Elo4",
        "yQaldy8SH6Dl",
        "PH-0ReGfmX4f",
        "mDgbUHAGgjLW",
        "O_i_v8NEhb9l",
        "HhfV-JJviCcP",
        "Y3lxredqlCYt",
        "3RnN4peoiCZX",
        "x71ZqKXriCWQ",
        "7hBIi_osiCS2",
        "JlHwYmJAmNHm",
        "35m5QtbWiB9F",
        "PoPl-ycgm1ru",
        "H0kj-8xxnORC",
        "nA9Y7ga8ng1Z",
        "PBTbrJXOngz2",
        "u3PMJOP6ngxN",
        "dauF4eBmngu3",
        "bKJF3rekwFvQ",
        "MSa1f5Uengrz",
        "GF8Ens_Soomf",
        "0wOQAZs5pc--",
        "K5QZ13OEpz2H",
        "lQ7QKXXCp7Bj",
        "448CDAPjqfQr",
        "KSlN3yHqYklG",
        "t6dVpIINYklI",
        "ijmpgYnKYklI",
        "-JiQyfWJYklI",
        "EM7whBJCYoAo",
        "fge-S5ZAYoAp",
        "85gYPyotYoAp",
        "RoGjAbkUYoAp",
        "4Of9eVA-YrdM",
        "iky9q4vBYrdO",
        "F6T5p64dYrdO",
        "y-Ehk30pYrdP",
        "bamQiAODYuh1",
        "QHF8YVU7Yuh3",
        "GwzvFGzlYuh3",
        "qYpmQ266Yuh3",
        "OH-pJp9IphqM",
        "bbFf2-_FphqN",
        "_ouA3fa0phqN",
        "Seke61FWphqN",
        "PIIx-8_IphqN",
        "t27r6nlMphqO",
        "r2jJGEOYphqO",
        "b0JNsNcRphqO",
        "BZR9WyysphqO",
        "jj7wYXLtphqO",
        "eZrbJ2SmphqO",
        "rFu4xreNphqO",
        "YJ55k-q6phqO",
        "gCFgpxoyphqP",
        "OVtJsKN_phqQ",
        "lssrdh5qphqQ",
        "U2RJ9gkRphqQ",
        "1M8mcRywphqQ",
        "tgIPom80phqQ",
        "JMzcOPDDphqR",
        "x-EpHcCOp1ci",
        "X_VqEhTip1ck",
        "8zGJKyg5p1ck",
        "PVzmfK_Ep1ck",
        "n3dbpmDWp1ck",
        "ylSl6qgtp1ck",
        "ZWILFDl5p1ck",
        "M7G43BXep1ck",
        "Ag9LCva-p1cl",
        "E6MkPsBcp1cl",
        "2cELzS2fp1cl",
        "3MPXvC8up1cl",
        "NC_X3p0fY2L0",
        "UV0SzAkaZNRQ",
        "YPEH6qLeZNRQ",
        "q29F0dvdveiT",
        "EXh0U9oCveiU",
        "22aHeOlLveiV",
        "JcMwzZxoAimU",
        "8G2x9gOozGDZ",
        "gCX9965dhzqZ",
        "gIfDvo9L0UH2"
      ],
      "include_colab_link": true
    },
    "kernelspec": {
      "name": "python3",
      "display_name": "Python 3"
    },
    "language_info": {
      "name": "python"
    }
  },
  "cells": [
    {
      "cell_type": "markdown",
      "metadata": {
        "id": "view-in-github",
        "colab_type": "text"
      },
      "source": [
        "<a href=\"https://colab.research.google.com/github/Shreya-gupta123/Capstone-project-2/blob/main/Capstone_project_EDA_version_7.ipynb\" target=\"_parent\"><img src=\"https://colab.research.google.com/assets/colab-badge.svg\" alt=\"Open In Colab\"/></a>"
      ]
    },
    {
      "cell_type": "markdown",
      "source": [
        "# **Project Name**   -  Airbnb Bookings Analysis\n",
        "\n"
      ],
      "metadata": {
        "id": "vncDsAP0Gaoa"
      }
    },
    {
      "cell_type": "markdown",
      "source": [
        "##### **Project Type**    - EDA\n",
        "##### **Contribution**    - Individual\n"
      ],
      "metadata": {
        "id": "beRrZCGUAJYm"
      }
    },
    {
      "cell_type": "markdown",
      "source": [
        "# **Project Summary -**"
      ],
      "metadata": {
        "id": "FJNUwmbgGyua"
      }
    },
    {
      "cell_type": "markdown",
      "source": [
        "Exploratory Data Analysis is a process of examining or understanding the data and extracting insights or main characteristics of the data.It is an analysis approach that identifies general patterns in the data. It is crucial to understand it in depth before you perform data analysis and run your data through an algorithm. You need to know the patterns in your data and determine which variables are important and which do not play a significant role in the output.For this project we are analyzing Airbnb’s New York City(NYC) data of 2019 using python language.\n",
        "\n",
        "Airbnb, Inc., based in San Francisco, California, operates an online marketplace focused on short-term homestays and experiences.Airbnb is an internet platform that links homeowners intending to rent out their properties with travelers seeking lodging in that area. It's a means for hosts to make money while safeguarding their assets from possible harm.\n",
        "\n",
        "For this, we will explore and visualize the dataset from Airbnb in NYC using basic exploratory data analysis (EDA) techniques. We have found out the distribution of every Airbnb listing based on their location, including their price range, room type, listing name, and other related factors.\n",
        "\n",
        "\n",
        "This dataset has around 49,000 observations in it with 16 columns and it is a mix of categorical and numeric values.We have made use of libraries like seaborn, matplotlib, pandas, and numpy.Following that, we performed some wrangling by eliminating outliers, null values, and several variables that had missing values and weren't relevant to our investigation.Additionally, we have employed certain charts that enhance the visual appeal of our observations.\n",
        "\n",
        "Understanding the factors that influence Airbnb prices in New York City, or identifying patterns of all variables and our analysis provides useful information for travelers and hosts in the city and also provides some best insights for Airbnb business.This can help in making strategic data-driven decisions by the marketing team, finance team and technical team of Airbnb."
      ],
      "metadata": {
        "id": "F6v_1wHtG2nS"
      }
    },
    {
      "cell_type": "markdown",
      "source": [
        "# **GitHub Link -**"
      ],
      "metadata": {
        "id": "w6K7xa23Elo4"
      }
    },
    {
      "cell_type": "markdown",
      "source": [
        "https://github.com/Shreya-gupta123/Capstone-project-2"
      ],
      "metadata": {
        "id": "h1o69JH3Eqqn"
      }
    },
    {
      "cell_type": "markdown",
      "source": [
        "# **Problem Statement**\n"
      ],
      "metadata": {
        "id": "yQaldy8SH6Dl"
      }
    },
    {
      "cell_type": "markdown",
      "source": [
        "1. What is distribution of price of dataset airbnb?\n",
        "2. What is count of each neighbourhood group?\n",
        "3.  what is distribution of room type?\n",
        "4.  What are distribution of reviwes per month?\n",
        "5.   What is average price of each room type?\n",
        "6.  Comparison of prices of different neighbourhood\n",
        "7.   Distribution of Room Types in Each Neighbourhood Group\n",
        "8.   Average Availability of Listings in Each Neighbourhood Group\n",
        "9. Top 10 hosts on the basis of no of listings in entire NYC\n",
        "10.  Number of Reviews by Neighborhood Group in New York City\n",
        "11.  Geographic Distribution of Airbnb Listings in NYC\n",
        "12.   Price distribution on map of NYC\n",
        "13.  Correlation of different variables\n",
        "14.  Pairplot\n",
        "\n",
        "\n"
      ],
      "metadata": {
        "id": "DpeJGUA3kjGy"
      }
    },
    {
      "cell_type": "markdown",
      "source": [
        "#### **Define Your Business Objective?**"
      ],
      "metadata": {
        "id": "PH-0ReGfmX4f"
      }
    },
    {
      "cell_type": "markdown",
      "source": [
        "The business objective is to empower hosts to set optimal prices based on various neighborhood variables, allowing them to maximize profit and enhance the quality of their offerings. This comprehensive comparison enables hosts to make informed decisions by considering different aspects. Additionally, visitors benefit from this information, as they can plan their stay more effectively. They can choose accommodations based on higher reviews or align their budget with the expected cost of their stay. In essence, the goal is to provide a valuable tool for both hosts and visitors to make well-informed choices and optimize their experiences on the platform."
      ],
      "metadata": {
        "id": "PhDvGCAqmjP1"
      }
    },
    {
      "cell_type": "markdown",
      "source": [
        "# **General Guidelines** : -  "
      ],
      "metadata": {
        "id": "mDgbUHAGgjLW"
      }
    },
    {
      "cell_type": "markdown",
      "source": [
        "1.   Well-structured, formatted, and commented code is required.\n",
        "2.   Exception Handling, Production Grade Code & Deployment Ready Code will be a plus. Those students will be awarded some additional credits.\n",
        "     \n",
        "     The additional credits will have advantages over other students during Star Student selection.\n",
        "       \n",
        "             [ Note: - Deployment Ready Code is defined as, the whole .ipynb notebook should be executable in one go\n",
        "                       without a single error logged. ]\n",
        "\n",
        "3.   Each and every logic should have proper comments.\n",
        "4. You may add as many number of charts you want. Make Sure for each and every chart the following format should be answered.\n",
        "        \n",
        "\n",
        "```\n",
        "# Chart visualization code\n",
        "```\n",
        "            \n",
        "\n",
        "*   Why did you pick the specific chart?\n",
        "*   What is/are the insight(s) found from the chart?\n",
        "* Will the gained insights help creating a positive business impact?\n",
        "Are there any insights that lead to negative growth? Justify with specific reason.\n",
        "\n",
        "5. You have to create at least 20 logical & meaningful charts having important insights.\n",
        "\n",
        "\n",
        "[ Hints : - Do the Vizualization in  a structured way while following \"UBM\" Rule.\n",
        "\n",
        "U - Univariate Analysis,\n",
        "\n",
        "B - Bivariate Analysis (Numerical - Categorical, Numerical - Numerical, Categorical - Categorical)\n",
        "\n",
        "M - Multivariate Analysis\n",
        " ]\n",
        "\n",
        "\n",
        "\n"
      ],
      "metadata": {
        "id": "ZrxVaUj-hHfC"
      }
    },
    {
      "cell_type": "markdown",
      "source": [
        "# ***Let's Begin !***"
      ],
      "metadata": {
        "id": "O_i_v8NEhb9l"
      }
    },
    {
      "cell_type": "markdown",
      "source": [
        "## ***1. Know Your Data***"
      ],
      "metadata": {
        "id": "HhfV-JJviCcP"
      }
    },
    {
      "cell_type": "markdown",
      "source": [
        "### Import Libraries"
      ],
      "metadata": {
        "id": "Y3lxredqlCYt"
      }
    },
    {
      "cell_type": "code",
      "source": [
        "# Import Libraries\n",
        "\n",
        "import numpy as np\n",
        "import pandas as pd\n",
        "import matplotlib.pyplot as plt     #for visualization\n",
        "%matplotlib inline\n",
        "import seaborn as sns               #for visualization"
      ],
      "metadata": {
        "id": "M8Vqi-pPk-HR"
      },
      "execution_count": null,
      "outputs": []
    },
    {
      "cell_type": "markdown",
      "source": [
        "### Dataset Loading"
      ],
      "metadata": {
        "id": "3RnN4peoiCZX"
      }
    },
    {
      "cell_type": "code",
      "source": [
        "# Load Dataset\n"
      ],
      "metadata": {
        "id": "4CkvbW_SlZ_R"
      },
      "execution_count": null,
      "outputs": []
    },
    {
      "cell_type": "code",
      "source": [
        "from google.colab import drive\n",
        "drive.mount('/content/drive')"
      ],
      "metadata": {
        "id": "tFV3pqZVqbPi"
      },
      "execution_count": null,
      "outputs": []
    },
    {
      "cell_type": "code",
      "source": [
        "Airbnb_df = pd.read_csv('/content/drive/MyDrive/Airbnb NYC 2019.csv')\n",
        "Airbnb_df"
      ],
      "metadata": {
        "id": "kbfIJmlfq6VX"
      },
      "execution_count": null,
      "outputs": []
    },
    {
      "cell_type": "markdown",
      "source": [
        "### Dataset First View"
      ],
      "metadata": {
        "id": "x71ZqKXriCWQ"
      }
    },
    {
      "cell_type": "code",
      "source": [
        "# Dataset First Look\n",
        "Airbnb_df.head()"
      ],
      "metadata": {
        "id": "LWNFOSvLl09H"
      },
      "execution_count": null,
      "outputs": []
    },
    {
      "cell_type": "markdown",
      "source": [
        "### Dataset Rows & Columns count"
      ],
      "metadata": {
        "id": "7hBIi_osiCS2"
      }
    },
    {
      "cell_type": "code",
      "source": [
        "# Dataset Rows & Columns counts\n",
        "Airbnb_df.shape"
      ],
      "metadata": {
        "id": "Kllu7SJgmLij"
      },
      "execution_count": null,
      "outputs": []
    },
    {
      "cell_type": "markdown",
      "source": [
        "##### **There are 48895 rows and 16 columns**\n",
        "\n",
        "\n",
        "\n"
      ],
      "metadata": {
        "id": "fmzOpdqasHRs"
      }
    },
    {
      "cell_type": "markdown",
      "source": [
        "### Dataset Information"
      ],
      "metadata": {
        "id": "JlHwYmJAmNHm"
      }
    },
    {
      "cell_type": "code",
      "source": [
        "# Dataset Info\n",
        "Airbnb_df.info()\n"
      ],
      "metadata": {
        "id": "e9hRXRi6meOf"
      },
      "execution_count": null,
      "outputs": []
    },
    {
      "cell_type": "markdown",
      "source": [
        "#####**By checking information we can see that column: name,host_name,neighbourhood_group,neighbourhood,room_type,last_review are object/categorical data.All others are numerical data.**"
      ],
      "metadata": {
        "id": "X3UDDOBItpsL"
      }
    },
    {
      "cell_type": "markdown",
      "source": [
        "#### Duplicate Values"
      ],
      "metadata": {
        "id": "35m5QtbWiB9F"
      }
    },
    {
      "cell_type": "code",
      "source": [
        "# Dataset Duplicate Value Count\n",
        "Airbnb_df = Airbnb_df.drop_duplicates()\n",
        "Airbnb_df.count()"
      ],
      "metadata": {
        "id": "1sLdpKYkmox0"
      },
      "execution_count": null,
      "outputs": []
    },
    {
      "cell_type": "markdown",
      "source": [
        "#####**There are no duplicate rows.**"
      ],
      "metadata": {
        "id": "lVRwzU1xvWYP"
      }
    },
    {
      "cell_type": "markdown",
      "source": [
        "#### Missing Values/Null Values"
      ],
      "metadata": {
        "id": "PoPl-ycgm1ru"
      }
    },
    {
      "cell_type": "code",
      "source": [
        "# Missing Values/Null Values Count\n",
        "Airbnb_df.isna().sum()"
      ],
      "metadata": {
        "id": "GgHWkxvamxVg"
      },
      "execution_count": null,
      "outputs": []
    },
    {
      "cell_type": "code",
      "source": [
        "# Visualizing the missing values\n",
        "missing_values_count = Airbnb_df.isna().sum()\n",
        "\n",
        "# Plotting the bar plot\n",
        "missing_values_count.plot(kind='bar',figsize=(10, 6))\n",
        "plt.title(\"Count of Missing Values in Each Column\")\n",
        "plt.xlabel(\"Columns\")\n",
        "plt.ylabel(\"Count of Missing Values\")\n",
        "plt.show()"
      ],
      "metadata": {
        "id": "oRkn8Uxc0TyQ"
      },
      "execution_count": null,
      "outputs": []
    },
    {
      "cell_type": "markdown",
      "source": [
        "### What did you know about your dataset?"
      ],
      "metadata": {
        "id": "H0kj-8xxnORC"
      }
    },
    {
      "cell_type": "markdown",
      "source": [
        "*  The Airbnb bookings dataset for New York City in 2019 provides a comprehensive view of accommodation listings, host details, and booking information. This dataset captures the dynamic landscape of the Airbnb market in one of the most popular cities for short-term rentals.\n",
        "*  The dataset appears to contain information about Airbnb listings, including details about the hosts, the properties, pricing, and reviews.\n",
        "*  This Airbnb dataset contains nearly 49,000 observations from New York , with 16 columns of data.\n",
        "\n",
        "*   The Data includes both categorical and numeric values, providing a diverse range of information about the listings.\n",
        "\n",
        "*   This dataset is valuable for anyone interested in understanding the Airbnb market dynamics in NYC, including hosts, travelers, and researchers analyzing trends in the short-term rental industry.\n",
        "\n",
        "*   This dataset contains information about Airbnb bookings in New York City in 2019. By analyzing this data, you may be able to understand the trends and patterns of Airbnb use in the NYC.\n",
        "\n",
        "\n",
        "\n"
      ],
      "metadata": {
        "id": "gfoNAAC-nUe_"
      }
    },
    {
      "cell_type": "markdown",
      "source": [
        "## ***2. Understanding Your Variables***"
      ],
      "metadata": {
        "id": "nA9Y7ga8ng1Z"
      }
    },
    {
      "cell_type": "code",
      "source": [
        "# Dataset Columns\n",
        "Airbnb_df.columns"
      ],
      "metadata": {
        "id": "j7xfkqrt5Ag5"
      },
      "execution_count": null,
      "outputs": []
    },
    {
      "cell_type": "code",
      "source": [
        "# Dataset Describe\n",
        "Airbnb_df.describe()"
      ],
      "metadata": {
        "id": "DnOaZdaE5Q5t"
      },
      "execution_count": null,
      "outputs": []
    },
    {
      "cell_type": "markdown",
      "source": [
        "### Variables Description"
      ],
      "metadata": {
        "id": "PBTbrJXOngz2"
      }
    },
    {
      "cell_type": "markdown",
      "source": [
        "1. **Listing Information:**\n",
        "\n",
        "  *   **id**: A unique identifier for each listing.\n",
        "  *  **name:** The name or title of the listing.\n",
        "  *  **host_id:** Identification of the host associated with the listing.\n",
        "  *  **host_name:** Name of the host.\n",
        "2. **Location Details:**\n",
        "\n",
        "  *  **neighbourhood_group:** The borough or group of neighborhoods in which the listing is situated (e.g., Manhattan, Brooklyn).\n",
        "  *  **neighbourhood:** The specific neighborhood where the listing is located.\n",
        "  *   **latitude, longitude**: Geographic coordinates of the listing.\n",
        "3.  **Booking Details:**\n",
        "\n",
        "   *  **room_type**: Type of room or accommodation (e.g., Entire home/apt, Private room).\n",
        "   * **price:** Nightly price of the listing.\n",
        "   *  **minimum_nights:** The minimum number of nights required for booking.\n",
        "\n",
        "   *  **number_of_reviews:** The total number of reviews received by the listing.\n",
        "   *  **last_review:** Date of the last review.\n",
        "   *  **reviews_per_month:** Average number of reviews received per month.\n",
        "  *  **calculated_host_listings_count:** The count of listings by the host.\n",
        "4.  **Availability:**\n",
        "  *   **availability_365:** The number of days the listing is available for booking within a year."
      ],
      "metadata": {
        "id": "aJV4KIxSnxay"
      }
    },
    {
      "cell_type": "markdown",
      "source": [
        "### Check Unique Values for each variable."
      ],
      "metadata": {
        "id": "u3PMJOP6ngxN"
      }
    },
    {
      "cell_type": "code",
      "source": [
        "# Check Unique Values for each variable.\n",
        "for column in Airbnb_df.columns:\n",
        "    unique_values = Airbnb_df[column].nunique()\n",
        "    print(f\"Unique values for {column}:\\n{unique_values}\\n\")"
      ],
      "metadata": {
        "id": "zms12Yq5n-jE"
      },
      "execution_count": null,
      "outputs": []
    },
    {
      "cell_type": "markdown",
      "source": [
        "## 3. ***Data Wrangling***"
      ],
      "metadata": {
        "id": "dauF4eBmngu3"
      }
    },
    {
      "cell_type": "markdown",
      "source": [
        "### Data Wrangling Code"
      ],
      "metadata": {
        "id": "bKJF3rekwFvQ"
      }
    },
    {
      "cell_type": "code",
      "source": [
        "# Write your code to make your dataset analysis ready.\n",
        "\n",
        "Airbnb_df.isna().sum()\n"
      ],
      "metadata": {
        "id": "wk-9a2fpoLcV"
      },
      "execution_count": null,
      "outputs": []
    },
    {
      "cell_type": "markdown",
      "source": [
        "#####**Filling Null Values**\n",
        "we can see above column name and host_name have some null values.We can fill this column by using fillna method.\n"
      ],
      "metadata": {
        "id": "mMlpSY4oFj4K"
      }
    },
    {
      "cell_type": "code",
      "source": [
        "Airbnb_df['name'].fillna('unknown',inplace=True)\n",
        "Airbnb_df['host_name'].fillna('no_name',inplace=True)"
      ],
      "metadata": {
        "id": "O_kKFltlGeKb"
      },
      "execution_count": null,
      "outputs": []
    },
    {
      "cell_type": "code",
      "source": [
        "Airbnb_df[['name','host_name']].isna().sum()\n",
        "#now both columns have 0 null values"
      ],
      "metadata": {
        "id": "CLu0JQchG9z1"
      },
      "execution_count": null,
      "outputs": []
    },
    {
      "cell_type": "markdown",
      "source": [
        "Last_review and reviews_per_month column has many null values.We can simply drop Last_review column as it doesnt have that much importance as compare to review_per_month."
      ],
      "metadata": {
        "id": "6dfdE9ZjH6Q_"
      }
    },
    {
      "cell_type": "code",
      "source": [
        "Airbnb_df.drop(['last_review'],axis=1,inplace=True)"
      ],
      "metadata": {
        "id": "ZF9OkY8jIfj9"
      },
      "execution_count": null,
      "outputs": []
    },
    {
      "cell_type": "code",
      "source": [
        "# we can replace null values in the 'reviews_per_month' column with 0:\n",
        "Airbnb_df['reviews_per_month'].fillna(0, inplace=True)\n",
        "Airbnb_df.isna().sum()\n",
        "# we have removed all null values from dataset\n"
      ],
      "metadata": {
        "id": "m0TvKil0I9yr"
      },
      "execution_count": null,
      "outputs": []
    },
    {
      "cell_type": "markdown",
      "source": [
        "**Removing outliers**"
      ],
      "metadata": {
        "id": "bLdERCzXLosr"
      }
    },
    {
      "cell_type": "code",
      "source": [
        "# describe the DataFrame\n",
        "Airbnb_df.describe()"
      ],
      "metadata": {
        "id": "nARj29G6LLZD"
      },
      "execution_count": null,
      "outputs": []
    },
    {
      "cell_type": "code",
      "source": [
        "# we have taken price column as it is important and can effect analysis\n",
        "sns.boxplot(x = Airbnb_df['price'])\n",
        "plt.title('Box Plot of Price')\n",
        "plt.xlabel('Price')\n",
        "plt.show()"
      ],
      "metadata": {
        "id": "HsdZ7mtAO6Hm"
      },
      "execution_count": null,
      "outputs": []
    },
    {
      "cell_type": "code",
      "source": [
        "# writing a outlier function for removing outliers in important columns.\n",
        "def iqr_technique(DFcolumn):\n",
        "  Q1 = np.percentile(DFcolumn, 25)\n",
        "  Q3 = np.percentile(DFcolumn, 75)\n",
        "  IQR = Q3 - Q1\n",
        "  lower_range = Q1 - (1.5 * IQR)\n",
        "  upper_range = Q3 + (1.5 * IQR)                        # interquantile range\n",
        "\n",
        "  return lower_range,upper_range\n",
        "\n",
        "lower_bound,upper_bound = iqr_technique(Airbnb_df['price'])\n",
        "Airbnb_df = Airbnb_df[(Airbnb_df.price>lower_bound) & (Airbnb_df.price<upper_bound)]\n"
      ],
      "metadata": {
        "id": "Yf1jxpxuQUAx"
      },
      "execution_count": null,
      "outputs": []
    },
    {
      "cell_type": "code",
      "source": [
        "# so the outliers are removed from price column now check with boxplot and also check shape of new Dataframe!\n",
        "sns.boxplot(x = Airbnb_df['price'])\n",
        "print(Airbnb_df.shape)"
      ],
      "metadata": {
        "id": "FHsmtgqsQw1J"
      },
      "execution_count": null,
      "outputs": []
    },
    {
      "cell_type": "markdown",
      "source": [
        "### What all manipulations have you done and insights you found?"
      ],
      "metadata": {
        "id": "MSa1f5Uengrz"
      }
    },
    {
      "cell_type": "markdown",
      "source": [
        "* I have removed all null values by either filling or deleting a column.\n",
        "* I have removed all outliers from column price as outliers can significantly impact statistical measures such as the mean and standard deviation.\n",
        "* We can identify outlier by boxplots,barplots etc.above i have used a box plot.\n",
        "* I have choosen only price column as it is most important column and outlier can impact its mean value."
      ],
      "metadata": {
        "id": "LbyXE7I1olp8"
      }
    },
    {
      "cell_type": "markdown",
      "source": [
        "## ***4. Data Vizualization, Storytelling & Experimenting with charts : Understand the relationships between variables***"
      ],
      "metadata": {
        "id": "GF8Ens_Soomf"
      }
    },
    {
      "cell_type": "markdown",
      "source": [
        "##***UNIVARIATE ANALYSIS***"
      ],
      "metadata": {
        "id": "xK7mt2NtOboG"
      }
    },
    {
      "cell_type": "markdown",
      "source": [
        " #### **1.Distribution of Prices using histogram**"
      ],
      "metadata": {
        "id": "KSlN3yHqYklG"
      }
    },
    {
      "cell_type": "code",
      "source": [
        "# Chart - 1 visualization code\n",
        "\n",
        "# Create a figure with a custom size:\n",
        "plt.figure(figsize=(8, 5))\n",
        "\n",
        "# creating plot:\n",
        "sns.histplot(Airbnb_df['price'], bins=30, color='skyblue')\n",
        "# giving title:\n",
        "plt.title('Distribution of Prices')\n",
        "\n",
        "# labeling x and y:\n",
        "plt.xlabel('Price')\n",
        "plt.ylabel('Frequency')\n",
        "plt.show()"
      ],
      "metadata": {
        "id": "R4YgtaqtYklH"
      },
      "execution_count": null,
      "outputs": []
    },
    {
      "cell_type": "markdown",
      "source": [
        "##### 1. Why did you pick the specific chart?"
      ],
      "metadata": {
        "id": "t6dVpIINYklI"
      }
    },
    {
      "cell_type": "markdown",
      "source": [
        " *  Histograms are  useful for visualizing the frequency distribution of a continuous variable, such as prices in this case.\n",
        " *  Histograms provide a clear visual representation of the distribution of a numerical variable.\n"
      ],
      "metadata": {
        "id": "5aaW0BYyYklI"
      }
    },
    {
      "cell_type": "markdown",
      "source": [
        "##### 2. What is/are the insight(s) found from the chart?"
      ],
      "metadata": {
        "id": "ijmpgYnKYklI"
      }
    },
    {
      "cell_type": "markdown",
      "source": [
        "* Most prices range from 20 to 330, but the majority of listings fall between 50 and 150.\n",
        "* The most common prices are in the 50 to 150 range.\n",
        "* There aren't as many listings at prices above 250, and the number of listings drops significantly in this higher price range."
      ],
      "metadata": {
        "id": "PSx9atu2YklI"
      }
    },
    {
      "cell_type": "markdown",
      "source": [
        "##### 3. Will the gained insights help creating a positive business impact?\n",
        "Are there any insights that lead to negative growth? Justify with specific reason."
      ],
      "metadata": {
        "id": "-JiQyfWJYklI"
      }
    },
    {
      "cell_type": "markdown",
      "source": [
        "**Positive Business Impact:**\n",
        "\n",
        " The peak of its distribution is between 50 to 150 dollars.Since most people tend to spend between 50 and 150, businesses can attract more customers by setting their prices within this popular range.\n",
        "\n",
        " **Negative Growth Consideration:**\n",
        "\n",
        " If a business sets its prices much higher than the typical range of 50 to 150 dollara, there's a risk that fewer people will book their services. This is based on the overall trend we've seen in the data."
      ],
      "metadata": {
        "id": "BcBbebzrYklV"
      }
    },
    {
      "cell_type": "markdown",
      "source": [
        "####  **2.Count of Neighbourhood groups using countplot**"
      ],
      "metadata": {
        "id": "EM7whBJCYoAo"
      }
    },
    {
      "cell_type": "code",
      "source": [
        "# Chart - 2 visualization code\n",
        "\n",
        "# Create a figure with a custom size:\n",
        "plt.figure(figsize=(8, 6))\n",
        "\n",
        "# creating plot:\n",
        "sns.countplot(x='neighbourhood_group', data=Airbnb_df)\n",
        "\n",
        "# giving title and labeling x,y:\n",
        "plt.title(' Neighbourhood Groups in NYC')\n",
        "plt.xlabel('Neighbourhood Group')\n",
        "plt.ylabel('Listing Count')\n",
        "\n",
        "# display of chart:\n",
        "plt.show()"
      ],
      "metadata": {
        "id": "t6GMdE67YoAp"
      },
      "execution_count": null,
      "outputs": []
    },
    {
      "cell_type": "markdown",
      "source": [
        "##### 1. Why did you pick the specific chart?"
      ],
      "metadata": {
        "id": "fge-S5ZAYoAp"
      }
    },
    {
      "cell_type": "markdown",
      "source": [
        " * Count plots are effective for visualizing the distribution of categorical data. In this case, the neighbourhood_group column represents categorical data, and a count plot can show the frequency or count of each category (neighborhood group).\n",
        " * Count plots are particularly useful for exploring the distribution of categories and identifying patterns or imbalances in the data."
      ],
      "metadata": {
        "id": "5dBItgRVYoAp"
      }
    },
    {
      "cell_type": "markdown",
      "source": [
        "##### 2. What is/are the insight(s) found from the chart?"
      ],
      "metadata": {
        "id": "85gYPyotYoAp"
      }
    },
    {
      "cell_type": "markdown",
      "source": [
        "* Brooklyn and Manhattan have the highest number of listings, indicating a high demand for Airbnb accommodations in these areas.\n",
        "* Queens has a substantial number of listings, but there is still a considerable gap compared to Brooklyn and Manhattan.\n",
        "* Staten Island and the Bronx have fewer listings compared to others. This could indicate lower demand or fewer hosts in these areas."
      ],
      "metadata": {
        "id": "4jstXR6OYoAp"
      }
    },
    {
      "cell_type": "markdown",
      "source": [
        "#### **3.Distribution of Room Types on Airbnb using pie chart**"
      ],
      "metadata": {
        "id": "4Of9eVA-YrdM"
      }
    },
    {
      "cell_type": "code",
      "source": [
        "# Chart - 3 visualization code\n",
        "\n",
        "# counting room type in dataset:\n",
        "room_type_counts = Airbnb_df['room_type'].value_counts()\n",
        "labels = room_type_counts.index     # category for room_type\n",
        "sizes = room_type_counts.values     # values for category\n",
        "\n",
        "# Plotting the pie chart\n",
        "\n",
        "plt.pie(sizes, labels=labels, autopct='%1.1f%%', startangle=140)    #autopct to display percentage,startangle to rotate pie chart at given angle\n",
        "plt.show()\n",
        "\n"
      ],
      "metadata": {
        "id": "irlUoxc8YrdO"
      },
      "execution_count": null,
      "outputs": []
    },
    {
      "cell_type": "markdown",
      "source": [
        "##### 1. Why did you pick the specific chart?"
      ],
      "metadata": {
        "id": "iky9q4vBYrdO"
      }
    },
    {
      "cell_type": "markdown",
      "source": [
        "* We chose a pie chart to show the different types of rooms on Airbnb—shared rooms, private rooms, and entire homes/apartments. A pie chart works well because it visually represents the proportion of each room type compared to the total, making it easy to see the overall mix of room options.\n",
        "\n",
        "\n",
        "\n",
        "* Pie charts work well when you have a small number of categories, as in this case with three room types.\n",
        "\n",
        "\n",
        "\n",
        "\n",
        "\n"
      ],
      "metadata": {
        "id": "aJRCwT6DYrdO"
      }
    },
    {
      "cell_type": "markdown",
      "source": [
        "##### 2. What is/are the insight(s) found from the chart?"
      ],
      "metadata": {
        "id": "F6T5p64dYrdO"
      }
    },
    {
      "cell_type": "markdown",
      "source": [
        "* Private rooms and entire homes/apartments constitute the majority of listings on Airbnb, accounting for approximately 97.5% of the total.\n",
        "Shared rooms, on the other hand, make up a smaller proportion, contributing only 2.5% to the total."
      ],
      "metadata": {
        "id": "Xx8WAJvtYrdO"
      }
    },
    {
      "cell_type": "markdown",
      "source": [
        "##### 3. Will the gained insights help creating a positive business impact?\n",
        "Are there any insights that lead to negative growth? Justify with specific reason."
      ],
      "metadata": {
        "id": "y-Ehk30pYrdP"
      }
    },
    {
      "cell_type": "markdown",
      "source": [
        "\n",
        "\n",
        "**Positive Impact**:Airbnb can adjust how it advertises and reaches out to hosts based on what kinds of rooms are most popular. For example, if more people are looking for shared rooms, Airbnb might encourage hosts to offer more of those by providing extra incentives or promotions."
      ],
      "metadata": {
        "id": "jLNxxz7MYrdP"
      }
    },
    {
      "cell_type": "markdown",
      "source": [
        "####**4.Reviews per month distribution using histogram**"
      ],
      "metadata": {
        "id": "bamQiAODYuh1"
      }
    },
    {
      "cell_type": "code",
      "source": [
        "# Chart - 4 visualization code\n",
        "\n",
        "# Create a figure with a custom size:\n",
        "plt.figure(figsize=(10,6))\n",
        "# making plot:\n",
        "sns.histplot(Airbnb_df['reviews_per_month'],binrange=[0,6])\n",
        "# giving title:\n",
        "plt.title(\"Reviews per month distribution\")\n",
        "\n"
      ],
      "metadata": {
        "id": "TIJwrbroYuh3"
      },
      "execution_count": null,
      "outputs": []
    },
    {
      "cell_type": "markdown",
      "source": [
        "##### 1. Why did you pick the specific chart?"
      ],
      "metadata": {
        "id": "QHF8YVU7Yuh3"
      }
    },
    {
      "cell_type": "markdown",
      "source": [
        "Histograms are excellent for displaying the distribution of a single variable. In this case, we want to understand how reviews per month are distributed across Airbnb listings.\n",
        "Te height of each bar indicates the proportion of data points that fall inside a given range. This lets us see how frequent or infrequently certain review levels occur each month."
      ],
      "metadata": {
        "id": "dcxuIMRPYuh3"
      }
    },
    {
      "cell_type": "markdown",
      "source": [
        "##### 2. What is/are the insight(s) found from the chart?"
      ],
      "metadata": {
        "id": "GwzvFGzlYuh3"
      }
    },
    {
      "cell_type": "markdown",
      "source": [
        "Nearly all properties receive almost no monthly reviews. It's obvious that people aren't reviewing properties. An Airbnb guest may not wish to stay in a place with no ratings.\n",
        "\n",
        "\n"
      ],
      "metadata": {
        "id": "uyqkiB8YYuh3"
      }
    },
    {
      "cell_type": "markdown",
      "source": [
        "##### 3. Will the gained insights help creating a positive business impact?\n",
        "Are there any insights that lead to negative growth? Justify with specific reason."
      ],
      "metadata": {
        "id": "qYpmQ266Yuh3"
      }
    },
    {
      "cell_type": "markdown",
      "source": [
        "**Positive Business Impact**:Some visitors often visit any places after reading its review.Therefore, if reviews are almost nothing, this might be a barrier for their company.To overcome this below strategies can be applied:\n",
        "\n",
        "*  In addition to offering top-notch service, hosts may actively encourage visitors to write evaluations by interacting with them while they are visiting and politely asking for opinions following arrival.\n",
        "\n",
        "* Small rewards, like future stay discounts or little extras, are something hosts should think about providing to visitors who write reviews.\n"
      ],
      "metadata": {
        "id": "_WtzZ_hCYuh4"
      }
    },
    {
      "cell_type": "markdown",
      "source": [
        "##***BIVARIATE ANALYSIS***\n"
      ],
      "metadata": {
        "id": "OH-pJp9IphqM"
      }
    },
    {
      "cell_type": "markdown",
      "source": [
        "####**5.Average Price by Room Type using Bar plot**"
      ],
      "metadata": {
        "id": "borVBoCNu64s"
      }
    },
    {
      "cell_type": "code",
      "source": [
        "# Chart - 5 visualization code\n",
        "\n",
        "# create chart:\n",
        "sns.barplot(x=Airbnb_df['room_type'],y=Airbnb_df['price'])\n",
        "\n",
        "# labeling and giving title:\n",
        "plt.xlabel('Room type')\n",
        "plt.ylabel('Average price')\n",
        "plt.title('Average Price by Room Type')\n",
        "\n",
        "# displaying chart:\n",
        "plt.show()"
      ],
      "metadata": {
        "id": "kuRf4wtuphqN"
      },
      "execution_count": null,
      "outputs": []
    },
    {
      "cell_type": "markdown",
      "source": [
        "##### 1. Why did you pick the specific chart?"
      ],
      "metadata": {
        "id": "bbFf2-_FphqN"
      }
    },
    {
      "cell_type": "markdown",
      "source": [
        "Categorical Data Comparison: Since we are comparing average prices across different categories (room types), a bar plot is a suitable choice. Each bar represents a category, making it easy to visually compare the average prices.\n",
        "\n",
        "\n",
        "\n",
        "\n",
        "\n",
        "\n"
      ],
      "metadata": {
        "id": "loh7H2nzphqN"
      }
    },
    {
      "cell_type": "markdown",
      "source": [
        "##### 2. What is/are the insight(s) found from the chart?"
      ],
      "metadata": {
        "id": "_ouA3fa0phqN"
      }
    },
    {
      "cell_type": "markdown",
      "source": [
        "* Entire homes have the highest average price at 160.\n",
        "* Private rooms have a mid-range average price at 80.\n",
        "* Shared rooms have the lowest average price at 60.\n",
        "* On average, an entire home is twice as expensive as a private room and more than twice as expensive as a shared room.\n",
        "* Travelers seeking more budget-friendly options might be inclined to choose shared rooms."
      ],
      "metadata": {
        "id": "VECbqPI7phqN"
      }
    },
    {
      "cell_type": "markdown",
      "source": [
        "##### 3. Will the gained insights help creating a positive business impact?\n",
        "Are there any insights that lead to negative growth? Justify with specific reason."
      ],
      "metadata": {
        "id": "Seke61FWphqN"
      }
    },
    {
      "cell_type": "markdown",
      "source": [
        "**Positive Business Impact:** Hosts can use this information to set attractive and competitive prices for their listings. By understanding the usual prices for different types of accommodations, hosts can adjust their pricing strategies to attract specific groups of customers.\n",
        "\n",
        "**Potential Challenges**:*Risk of Overpricing/Underpricing*There's a risk of setting prices too low or too high. If prices are too low, hosts might not make enough money, and if they're too high, potential customers might be put off. Finding the right balance between value and price can be tricky."
      ],
      "metadata": {
        "id": "DW4_bGpfphqN"
      }
    },
    {
      "cell_type": "markdown",
      "source": [
        "####**6.Comparison of price in different neighbourhood group**"
      ],
      "metadata": {
        "id": "PIIx-8_IphqN"
      }
    },
    {
      "cell_type": "code",
      "source": [
        "# Chart - 6 visualization code\n",
        "\n",
        "# Create a figure with a custom size:\n",
        "plt.figure(figsize=(8, 4))\n",
        "\n",
        "# setting color palette:\n",
        "sns.set_palette(\"magma\")\n",
        "\n",
        "# creating plot:\n",
        "sns.barplot(x='neighbourhood_group', y='price', data=Airbnb_df)\n",
        "\n",
        "# labeling x,y and giving title:\n",
        "plt.xlabel('Neighbourhood Group')\n",
        "plt.ylabel('Average Price')\n",
        "plt.title('Comparison of price in different neighbourhood group')\n",
        "\n",
        "# display of chart:\n",
        "plt.show()"
      ],
      "metadata": {
        "id": "lqAIGUfyphqO"
      },
      "execution_count": null,
      "outputs": []
    },
    {
      "cell_type": "markdown",
      "source": [
        "##### 1. Why did you pick the specific chart?"
      ],
      "metadata": {
        "id": "t27r6nlMphqO"
      }
    },
    {
      "cell_type": "markdown",
      "source": [
        "Bar plots are effective for comparing the average values of a numerical variable (in this case, 'price') across different categories (neighborhood groups). Each bar represents a distinct category, making it easy to visualize and compare."
      ],
      "metadata": {
        "id": "iv6ro40sphqO"
      }
    },
    {
      "cell_type": "markdown",
      "source": [
        "##### 2. What is/are the insight(s) found from the chart?"
      ],
      "metadata": {
        "id": "r2jJGEOYphqO"
      }
    },
    {
      "cell_type": "markdown",
      "source": [
        "* Manhattan area is most expensive.\n",
        "* Brooklyn is also expensive comparitively.\n",
        "* All others are somewhat equal in terms of prices"
      ],
      "metadata": {
        "id": "Po6ZPi4hphqO"
      }
    },
    {
      "cell_type": "markdown",
      "source": [
        "##### 3. Will the gained insights help creating a positive business impact?\n",
        "Are there any insights that lead to negative growth? Justify with specific reason."
      ],
      "metadata": {
        "id": "b0JNsNcRphqO"
      }
    },
    {
      "cell_type": "markdown",
      "source": [
        "These insights can help hosts in  setting the right prices for their listings in each neighborhood. By aligning their rates with what people typically pay in those areas, hosts can increase their chances of getting more bookings."
      ],
      "metadata": {
        "id": "xvSq8iUTphqO"
      }
    },
    {
      "cell_type": "markdown",
      "source": [
        "#### **7.Distribution of Room Types in Each Neighbourhood Group using grouped bar chart**"
      ],
      "metadata": {
        "id": "BZR9WyysphqO"
      }
    },
    {
      "cell_type": "code",
      "source": [
        "# Chart - 7 visualization code\n",
        "\n",
        "# Create a figure with a custom size:\n",
        "plt.figure(figsize=(8, 4))\n",
        "\n",
        "#  creating plot:\n",
        "sns.countplot(x='neighbourhood_group', hue='room_type', data=Airbnb_df,palette='magma')   #setting color palette 'magma'\n",
        "\n",
        "# labeling x,y and giving title:\n",
        "plt.xlabel('Neighbourhood Group')\n",
        "plt.ylabel('Count')\n",
        "plt.title('Distribution of Room Types in Each Neighbourhood Group')\n",
        "\n",
        "# creating legend with title 'room type',location 'upper right'\n",
        "plt.legend(title='Room Type', loc='upper right')\n",
        "plt.show()"
      ],
      "metadata": {
        "id": "TdPTWpAVphqO"
      },
      "execution_count": null,
      "outputs": []
    },
    {
      "cell_type": "markdown",
      "source": [
        "##### 1. Why did you pick the specific chart?"
      ],
      "metadata": {
        "id": "jj7wYXLtphqO"
      }
    },
    {
      "cell_type": "markdown",
      "source": [
        "* Grouped bar chart is suitable for comparing the distribution of one categorical variable (room type) across different categories of another categorical variable (neighborhood group). Each bar represents a neighborhood group, and within each bar, different colors represent the distribution of room types.\n",
        "* The use of different colors for room types within each neighborhood group helps visually separate and distinguish the categories.\n",
        "* The vertical axis represents the count or frequency of occurrences, providing a clear representation of how many listings fall into each combination of neighborhood group and room type"
      ],
      "metadata": {
        "id": "Ob8u6rCTphqO"
      }
    },
    {
      "cell_type": "markdown",
      "source": [
        "##### 2. What is/are the insight(s) found from the chart?"
      ],
      "metadata": {
        "id": "eZrbJ2SmphqO"
      }
    },
    {
      "cell_type": "markdown",
      "source": [
        "* Shared rooms are least popular.\n",
        "* Private rooms are most popular except in Manhattan where listing of entire apartment is high.\n",
        "* Manhatten and Brooklyn has highest number of listings.Staten island has least."
      ],
      "metadata": {
        "id": "mZtgC_hjphqO"
      }
    },
    {
      "cell_type": "markdown",
      "source": [
        "#### **8.Average Availability of Listings in Each Neighbourhood Group using point plot**"
      ],
      "metadata": {
        "id": "YJ55k-q6phqO"
      }
    },
    {
      "cell_type": "code",
      "source": [
        "# Chart - 8 visualization code\n",
        "\n",
        "# error bar= none : controls  uncertainty or variability of data points.\n",
        "sns.pointplot(x='neighbourhood_group', y='availability_365', data=Airbnb_df,errorbar=None)\n",
        "\n",
        "plt.xlabel('Neighbourhood Group')          #  represents the categorical variable on the x-axis.\n",
        "plt.ylabel('Average Availability (in days)') #represents the numerical variable  on the y-axis.\n",
        "plt.title('Average Availability of Listings in Each Neighbourhood Group')\n",
        "\n",
        "# display of chart\n",
        "plt.show()"
      ],
      "metadata": {
        "id": "B2aS4O1ophqO"
      },
      "execution_count": null,
      "outputs": []
    },
    {
      "cell_type": "markdown",
      "source": [
        "##### 1. Why did you pick the specific chart?"
      ],
      "metadata": {
        "id": "gCFgpxoyphqP"
      }
    },
    {
      "cell_type": "markdown",
      "source": [
        "* The pointplot is effective for comparing the  average of a numerical variable (availability in this case) across different categories (neighborhood groups).\n",
        "*   In cases where you have a limited number of categories (neighborhood groups), a pointplot is often more readable and straightforward."
      ],
      "metadata": {
        "id": "TVxDimi2phqP"
      }
    },
    {
      "cell_type": "markdown",
      "source": [
        "##### 2. What is/are the insight(s) found from the chart?"
      ],
      "metadata": {
        "id": "OVtJsKN_phqQ"
      }
    },
    {
      "cell_type": "markdown",
      "source": [
        "* The higher average availability in Staten Island is because there's less demand or more properties are open for longer periods.\n",
        "\n",
        "* Less Available in Manhattan: In Manhattan, there's usually high demand because it's a popular tourist spot and a busy business area. The lower availability suggests that listings there get booked up quickly, leaving fewer options.\n"
      ],
      "metadata": {
        "id": "ngGi97qjphqQ"
      }
    },
    {
      "cell_type": "markdown",
      "source": [
        "##### 3. Will the gained insights help creating a positive business impact?\n",
        "Are there any insights that lead to negative growth? Justify with specific reason."
      ],
      "metadata": {
        "id": "lssrdh5qphqQ"
      }
    },
    {
      "cell_type": "markdown",
      "source": [
        "Since there are more places available in Staten Island, hosts there could focus on attracting guests looking for longer stays. They might offer lower prices for extended bookings or promote their listings to people looking for longer vacations or temporary housing, which could bring in more bookings."
      ],
      "metadata": {
        "id": "tBpY5ekJphqQ"
      }
    },
    {
      "cell_type": "markdown",
      "source": [
        "####**9.Top 10 hosts on the basis of no of listings in entire NYC using bar plot**"
      ],
      "metadata": {
        "id": "U2RJ9gkRphqQ"
      }
    },
    {
      "cell_type": "code",
      "source": [
        "# Chart - 9 visualization code\n",
        "# create a new DataFrame of  top 10 hosts in the dataset based on the number of listings each host has\n",
        "top_hosts = Airbnb_df['host_name'].value_counts()[:10]\n",
        "\n",
        "# Create a bar plot of the top 10 hosts\n",
        "top_hosts.plot(kind='bar', color='purple', figsize=(8, 4))\n",
        "\n",
        "# Set the x-axis label\n",
        "plt.xlabel('top10_hosts', fontsize=14)\n",
        "\n",
        "# Set the y-axis label\n",
        "plt.ylabel('total_NYC_listings', fontsize=14)\n",
        "\n",
        "# Set the title of the plot\n",
        "plt.title('top 10 hosts on the basis of no of listings in entire NYC!', fontsize=15)\n",
        "\n"
      ],
      "metadata": {
        "id": "GM7a4YP4phqQ"
      },
      "execution_count": null,
      "outputs": []
    },
    {
      "cell_type": "markdown",
      "source": [
        "##### 1. Why did you pick the specific chart?"
      ],
      "metadata": {
        "id": "1M8mcRywphqQ"
      }
    },
    {
      "cell_type": "markdown",
      "source": [
        "A bar plot is effective when comparing categories, such as different hosts in this case. Each bar represents a distinct host, making it easy to compare the number of listings for each."
      ],
      "metadata": {
        "id": "8agQvks0phqQ"
      }
    },
    {
      "cell_type": "markdown",
      "source": [
        "##### 2. What is/are the insight(s) found from the chart?"
      ],
      "metadata": {
        "id": "tgIPom80phqQ"
      }
    },
    {
      "cell_type": "markdown",
      "source": [
        "* The top three hosts in terms of total listings are Michael, David, and John, who have 383, 368, and 276 listings, respectively.\n",
        "\n",
        "* There is a relatively large gap between the top two hosts and the rest of the hosts.\n",
        "\n",
        "* Mike has 184 listings, which is significantly fewer than others.\n",
        "\n",
        "* There aren't many hosts with a lotof listings. This hints that Airbnb is quite competitive, and a small number of hosts dominate the market."
      ],
      "metadata": {
        "id": "Qp13pnNzphqQ"
      }
    },
    {
      "cell_type": "markdown",
      "source": [
        "##### 3. Will the gained insights help creating a positive business impact?\n",
        "Are there any insights that lead to negative growth? Justify with specific reason."
      ],
      "metadata": {
        "id": "JMzcOPDDphqR"
      }
    },
    {
      "cell_type": "markdown",
      "source": [
        "**Positive Impact**: Airbnb could team up with top hosts for special deals, more visibility, or joint marketing efforts. This collaboration could benefit both the platform and the hosts.\n",
        "\n",
        "**Negative Impact**: A focus solely on quantity (number of listings) might overlook the quality of the listings and the overall guest experience. There's a risk of negative business impact if the emphasis on quantity compromises the quality of the offerings\n"
      ],
      "metadata": {
        "id": "R4Ka1PC2phqR"
      }
    },
    {
      "cell_type": "markdown",
      "source": [
        "####**10.Number of Reviews by Neighborhood Group in New York City using piechart**"
      ],
      "metadata": {
        "id": "x-EpHcCOp1ci"
      }
    },
    {
      "cell_type": "code",
      "source": [
        "# Chart - 10 visualization code\n",
        "# Group the data by neighborhood group and calculate the total number of reviews\n",
        "reviews_by_neighbourhood_group = Airbnb_df.groupby(\"neighbourhood_group\")[\"number_of_reviews\"].sum()\n",
        "\n",
        "# Create a pie chart\n",
        "colors = ['skyblue', 'lightgreen', 'lightcoral', 'gold', 'lightpink']\n",
        "plt.pie(reviews_by_neighbourhood_group, labels=reviews_by_neighbourhood_group.index, autopct='%1.1f%%',colors=colors)\n",
        "plt.title(\"Number of Reviews by Neighborhood Group in New York City\", fontsize='15')\n",
        "\n",
        "# Display the chart\n",
        "plt.show()\n",
        "\n"
      ],
      "metadata": {
        "id": "mAQTIvtqp1cj"
      },
      "execution_count": null,
      "outputs": []
    },
    {
      "cell_type": "markdown",
      "source": [
        "##### 1. Why did you pick the specific chart?"
      ],
      "metadata": {
        "id": "X_VqEhTip1ck"
      }
    },
    {
      "cell_type": "markdown",
      "source": [
        "* Pie charts are effective when you want to represent parts of a whole, showcasing the contribution of each neighborhood group to the total number of reviews\n",
        "* The use of autopct='%1.1f%%' in the plt.pie function provides a clear display of the percentage contribution of each neighborhood group to the total number of reviews."
      ],
      "metadata": {
        "id": "-vsMzt_np1ck"
      }
    },
    {
      "cell_type": "markdown",
      "source": [
        "##### 2. What is/are the insight(s) found from the chart?"
      ],
      "metadata": {
        "id": "8zGJKyg5p1ck"
      }
    },
    {
      "cell_type": "markdown",
      "source": [
        "\n",
        "* Brooklyn gets the most reviews, making up 43.3% of all reviews. This means Airbnb guests really notice and leave feedback for places in Brooklyn.\n",
        "\n",
        "* Manhattan is next, with 38.9% of the total reviews. It's slightly less than Brooklyn, but still, a lot of people review their stays in Manhattan, showing there's a lot happening on Airbnb there.\n",
        "\n",
        "* Queens and the Bronx together make up 16.2% of the reviews. Queens has more at 14.2%, and the Bronx has 2%.\n",
        "\n",
        "* Staten Island has the smallest share, only 1%. This suggests that not as many people leave reviews for places in Staten Island compared to the other neighborhoods.\n"
      ],
      "metadata": {
        "id": "ZYdMsrqVp1ck"
      }
    },
    {
      "cell_type": "markdown",
      "source": [
        "##### 3. Will the gained insights help creating a positive business impact?\n",
        "Are there any insights that lead to negative growth? Justify with specific reason."
      ],
      "metadata": {
        "id": "PVzmfK_Ep1ck"
      }
    },
    {
      "cell_type": "markdown",
      "source": [
        "**Positive Impact:**\n",
        "Since Brooklyn and Manhattan get a lot of reviews, hosts in these areas can use those positive reviews to attract more guests. They can focus their marketing efforts on highlighting how popular and well-liked their locations are, creating strategic opportunities to draw in more visitors.\n",
        "\n",
        "**Negative Impact**:If Airbnb or hosts focus too much on well-known areas like Brooklyn and Manhattan, there's a danger of missing out on opportunities in other neighborhoods. This might result in too many listings in certain areas, causing intense competition and possibly saturating those markets."
      ],
      "metadata": {
        "id": "druuKYZpp1ck"
      }
    },
    {
      "cell_type": "markdown",
      "source": [
        "##***MULTIVARIATE ANALYSIS***\n"
      ],
      "metadata": {
        "id": "n3dbpmDWp1ck"
      }
    },
    {
      "cell_type": "markdown",
      "source": [
        "#### **11.Geographic Distribution of Airbnb Listings in NYC using scatter**"
      ],
      "metadata": {
        "id": "z0mVgblovNS9"
      }
    },
    {
      "cell_type": "code",
      "source": [
        "# Chart - 12 visualization code\n",
        "\n",
        "# custom size figure:\n",
        "plt.figure(figsize=(10,6))\n",
        "\n",
        "# we are using  longititude and latitude column on x and y axis:\n",
        "sns.scatterplot(x=Airbnb_df['longitude'], y=Airbnb_df['latitude'], hue=Airbnb_df['neighbourhood_group'])\n",
        "plt.xlabel('Longitude')\n",
        "plt.ylabel('Latitude')\n",
        "plt.title('Geographic Distribution of Airbnb Listings in NYC')\n",
        "\n",
        "# display of chart\n",
        "plt.show()"
      ],
      "metadata": {
        "id": "bwevp1tKp1ck"
      },
      "execution_count": null,
      "outputs": []
    },
    {
      "cell_type": "markdown",
      "source": [
        "##### 1. Why did you pick the specific chart?"
      ],
      "metadata": {
        "id": "ylSl6qgtp1ck"
      }
    },
    {
      "cell_type": "markdown",
      "source": [
        "The scatter plot is used because it is a useful plot for displaying geographic data, making trends easier to see, and providing a straightforward way to compare different areas. It fits in nicely with the objective of using latitude and longitude data to visualize the spatial distribution of Airbnb listings in New York City."
      ],
      "metadata": {
        "id": "m2xqNkiQp1ck"
      }
    },
    {
      "cell_type": "markdown",
      "source": [
        "##### 2. What is/are the insight(s) found from the chart?"
      ],
      "metadata": {
        "id": "ZWILFDl5p1ck"
      }
    },
    {
      "cell_type": "markdown",
      "source": [
        "The different colors on the plot represent various neighborhood groups, allowing you to see the geographic distribution of Airbnb listings across different parts of NYC."
      ],
      "metadata": {
        "id": "x-lUsV2mp1ck"
      }
    },
    {
      "cell_type": "markdown",
      "source": [
        "##### 3. Will the gained insights help creating a positive business impact?\n",
        "Are there any insights that lead to negative growth? Justify with specific reason."
      ],
      "metadata": {
        "id": "M7G43BXep1ck"
      }
    },
    {
      "cell_type": "markdown",
      "source": [
        "The scatter plot reveals clusters in Brooklyn,Manhattan and Queens neighborhoods , hosts can strategically focus on those high-demand areas. This can lead to increased bookings and revenue."
      ],
      "metadata": {
        "id": "5wwDJXsLp1cl"
      }
    },
    {
      "cell_type": "markdown",
      "source": [
        "#### **12.Price distribution on map of NYC using Scatter plot**\n",
        "\n",
        "\n",
        "\n"
      ],
      "metadata": {
        "id": "Ag9LCva-p1cl"
      }
    },
    {
      "cell_type": "code",
      "source": [
        "# Chart - 13 visualization code\n",
        "\n",
        "# creating figure of custom size:\n",
        "plt.figure(figsize=(8,6))\n",
        "\n",
        "# create plot:\n",
        "sns.scatterplot(data=Airbnb_df,x='longitude',y='latitude',hue='price')\n",
        "\n",
        "# display chart:\n",
        "plt.title(\"Price distribution\")"
      ],
      "metadata": {
        "id": "EUfxeq9-p1cl"
      },
      "execution_count": null,
      "outputs": []
    },
    {
      "cell_type": "markdown",
      "source": [
        "##### 1. Why did you pick the specific chart?"
      ],
      "metadata": {
        "id": "E6MkPsBcp1cl"
      }
    },
    {
      "cell_type": "markdown",
      "source": [
        "By using scatter plot for latititude vs longitude we can see map of NYC and its price distribution across various neigbourhood.This way we can find which area has high price value."
      ],
      "metadata": {
        "id": "V22bRsFWp1cl"
      }
    },
    {
      "cell_type": "markdown",
      "source": [
        "##### 2. What is/are the insight(s) found from the chart?"
      ],
      "metadata": {
        "id": "2cELzS2fp1cl"
      }
    },
    {
      "cell_type": "markdown",
      "source": [
        "* Listings at high prices are dispersed around the city.However,cluster of high price listing are mostly found in Manhattan region\n",
        "* Manhattan is most expensive area."
      ],
      "metadata": {
        "id": "ozQPc2_Ip1cl"
      }
    },
    {
      "cell_type": "markdown",
      "source": [
        "##### 3. Will the gained insights help creating a positive business impact?\n",
        "Are there any insights that lead to negative growth? Justify with specific reason."
      ],
      "metadata": {
        "id": "3MPXvC8up1cl"
      }
    },
    {
      "cell_type": "markdown",
      "source": [
        "By looking at this map,the host can either reduce or increase prices accordingly.\n",
        "Some can get positive result while other host may have to increase there hospitality level to attract visitors."
      ],
      "metadata": {
        "id": "GL8l1tdLp1cl"
      }
    },
    {
      "cell_type": "markdown",
      "source": [
        "####**13. Correlation Heatmap**"
      ],
      "metadata": {
        "id": "NC_X3p0fY2L0"
      }
    },
    {
      "cell_type": "code",
      "source": [
        "# Correlation Heatmap visualization code\n",
        "\n",
        "# getting correlation between variables:\n",
        "corr=Airbnb_df.corr(numeric_only=True)"
      ],
      "metadata": {
        "id": "xyC9zolEZNRQ"
      },
      "execution_count": null,
      "outputs": []
    },
    {
      "cell_type": "code",
      "source": [
        "plt.figure(figsize=(12,6))\n",
        "# When annot is set to True, the values from the data array will be displayed in each cell of the heatmap.\n",
        "sns.heatmap(corr, cmap='BuGn',annot=True)\n",
        "\n",
        "# display of chart:\n",
        "plt.show()"
      ],
      "metadata": {
        "id": "ZsXNcJL9EPfB"
      },
      "execution_count": null,
      "outputs": []
    },
    {
      "cell_type": "markdown",
      "source": [
        "##### 1. Why did you pick the specific chart?"
      ],
      "metadata": {
        "id": "UV0SzAkaZNRQ"
      }
    },
    {
      "cell_type": "markdown",
      "source": [
        "Heatmaps are particularly effective in representing relationships in a matrix or grid-like structure, making them useful for visualizing  correlations.Each cell in the matrix represents the correlation coefficient between two variables.\n",
        "Correlation coefficient provides a numerical value that indicates how well the movements of one variable can be predicted by the movements of another variable."
      ],
      "metadata": {
        "id": "DVPuT8LYZNRQ"
      }
    },
    {
      "cell_type": "markdown",
      "source": [
        "##### 2. What is/are the insight(s) found from the chart?"
      ],
      "metadata": {
        "id": "YPEH6qLeZNRQ"
      }
    },
    {
      "cell_type": "markdown",
      "source": [
        "* There is a moderate positive correlation (0.58) between the host_id and id columns, which suggests that hosts with more listings are more likely to have unique host IDs.\n",
        "\n",
        "* There is a weak positive correlation (0.17) between the price column and the calculated_host_listings_count column, which suggests that hosts with more listings tend to charge higher prices for their listings.\n",
        "\n",
        "* There is a moderate positive correlation (0.23) between the calculated_host_listings_count column and the availability_365 column, which suggests that hosts with more listings tend to have more days of availability in the next 365 days.\n",
        "\n",
        "* There is a strong positive correlation (0.59) between the number_of_reviews column and the reviews_per_month column, which suggests that listings with more total reviews tend to have more reviews per month."
      ],
      "metadata": {
        "id": "bfSqtnDqZNRR"
      }
    },
    {
      "cell_type": "markdown",
      "source": [
        "#### **14.Pair Plot**"
      ],
      "metadata": {
        "id": "q29F0dvdveiT"
      }
    },
    {
      "cell_type": "code",
      "source": [
        "# Pair Plot visualization code\n",
        "\n",
        "# custom size figure:\n",
        "plt.figure(figsize=(8,6))\n",
        "\n",
        "# creating plot:\n",
        "sns.pairplot(Airbnb_df)\n",
        "\n",
        "# display of chart\n",
        "plt.show()"
      ],
      "metadata": {
        "id": "o58-TEIhveiU"
      },
      "execution_count": null,
      "outputs": []
    },
    {
      "cell_type": "markdown",
      "source": [
        "##### 1. Why did you pick the specific chart?"
      ],
      "metadata": {
        "id": "EXh0U9oCveiU"
      }
    },
    {
      "cell_type": "markdown",
      "source": [
        " A pair plot consists of multiple scatterplots arranged in a grid, with each\n",
        "scatterplot showing the relationship between two variables."
      ],
      "metadata": {
        "id": "eMmPjTByveiU"
      }
    },
    {
      "cell_type": "markdown",
      "source": [
        "##### 2. What is/are the insight(s) found from the chart?"
      ],
      "metadata": {
        "id": "22aHeOlLveiV"
      }
    },
    {
      "cell_type": "markdown",
      "source": [
        "* Latitude and Longitude chart shows map of NYC neighbourhood\n",
        "* We can identify there are many outliers when comparing different variables.for eg. when comparing reviews per month with price,minimum_nights with price.\n",
        "* availability_365 the most of the hosts are not available all the year.\n"
      ],
      "metadata": {
        "id": "uPQ8RGwHveiV"
      }
    },
    {
      "cell_type": "markdown",
      "source": [
        "## **5. Solution to Business Objective**"
      ],
      "metadata": {
        "id": "JcMwzZxoAimU"
      }
    },
    {
      "cell_type": "markdown",
      "source": [
        "#### What do you suggest the client to achieve Business Objective ?\n",
        "Explain Briefly."
      ],
      "metadata": {
        "id": "8G2x9gOozGDZ"
      }
    },
    {
      "cell_type": "markdown",
      "source": [
        "1.  The peak of its distribution is between 50 to 150 dollars.Since most people tend to spend between 50 and 150, businesses can attract more customers by setting their prices within this popular range.\n",
        "2. Brooklyn and Manhattan have the highest number of listings, indicating a high demand for Airbnb accommodations in these areas.\n",
        "3.  Airbnb can adjust how it advertises and reaches out to hosts based on what kinds of rooms are most popular. For example, if more people are looking for shared rooms, Airbnb might encourage hosts to offer more of those by providing extra incentives or promotions.\n",
        "4. Some visitors often visit any places after reading its review.Therefore, if reviews are almost nothing, this might be a barrier for their company.In addition to offering top-notch service, hosts may actively encourage visitors to write evaluations by interacting with them while they are visiting and politely asking for opinions following arrival.\n",
        "5. Hosts can use this information to set attractive and competitive prices for their listings. By understanding the usual prices for different types of accommodations, hosts can adjust their pricing strategies to attract specific groups of customers.\n",
        "6. Setting the right prices for their listings in each neighborhood. By aligning their rates with what people typically pay in those areas, hosts can increase their chances of getting more bookings.\n",
        "7.  Manhatten and Brooklyn has highest number of listings.Staten island has least.\n",
        "8.  Since there are more places available in Staten Island, hosts there could focus on attracting guests looking for longer stays. They might offer lower prices for extended bookings or promote their listings to people looking for longer vacations or temporary housing, which could bring in more bookings.\n",
        "9.  By checking top host from chart Airbnb could team up with top hosts for special deals, more visibility, or joint marketing efforts. This collaboration could benefit both the platform and the hosts.\n",
        "10. Since Brooklyn and Manhattan get a lot of reviews, hosts in these areas can use those positive reviews to attract more guests. They can focus their marketing efforts on highlighting how popular and well-liked their locations are, creating strategic opportunities to draw in more visitors.\n",
        "11.  The scatter plot reveals clusters in Brooklyn,Manhattan and Queens neighborhoods , hosts can strategically focus on those high-demand areas. This can lead to increased bookings and revenue.\n",
        "12. By looking at the map,the host can either reduce or increase prices accordingly. Some can get positive result while other host may have to increase there hospitality level to attract visitors"
      ],
      "metadata": {
        "id": "pASKb0qOza21"
      }
    },
    {
      "cell_type": "markdown",
      "source": [
        "# **Conclusion**"
      ],
      "metadata": {
        "id": "gCX9965dhzqZ"
      }
    },
    {
      "cell_type": "markdown",
      "source": [
        " * The project shows that exploring and analyzing Airbnb's dataset using visual tools is effective in discovering important information. The analysis provides a basis for suggesting strategies or recommendations.\n",
        " * Even though some solutions are proposed, there's still more to discover in the rich dataset, offering the potential for further refining business strategies.\n",
        " * Charts were used to compare different aspects, making complex information easier to understand.\n",
        " * The insights gained are seen as a starting point for Airbnb to improve its strategies and enhance the overall customer experience.\n",
        "\n",
        " * Overall, the conclusion highlights the value of exploring data, hints at more possibilities for analysis, underscores the dataset's richness, and suggests that the findings are a beginning for Airbnb to make improvements."
      ],
      "metadata": {
        "id": "Fjb1IsQkh3yE"
      }
    },
    {
      "cell_type": "markdown",
      "source": [
        "### ***Hurrah! You have successfully completed your EDA Capstone Project !!!***"
      ],
      "metadata": {
        "id": "gIfDvo9L0UH2"
      }
    }
  ]
}